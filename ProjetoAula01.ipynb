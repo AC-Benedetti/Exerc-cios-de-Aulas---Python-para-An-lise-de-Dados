{
 "cells": [
  {
   "cell_type": "code",
   "execution_count": 1,
   "id": "06dfe87c",
   "metadata": {},
   "outputs": [],
   "source": [
    "# IMPORTANDO AS BIBLIOTECAS NECESSÁRIAS PARA A APLICAÇÃO\n",
    "import pandas as pd\n",
    "import numpy as np"
   ]
  },
  {
   "cell_type": "code",
   "execution_count": 2,
   "id": "84789e78",
   "metadata": {},
   "outputs": [],
   "source": [
    "BaseDados = pd.read_csv(\"ProjetoAula01.csv\")"
   ]
  },
  {
   "cell_type": "code",
   "execution_count": 3,
   "id": "45e30615",
   "metadata": {},
   "outputs": [
    {
     "data": {
      "application/vnd.microsoft.datawrangler.viewer.v0+json": {
       "columns": [
        {
         "name": "index",
         "rawType": "int64",
         "type": "integer"
        },
        {
         "name": "gender",
         "rawType": "object",
         "type": "string"
        },
        {
         "name": "race/ethnicity",
         "rawType": "object",
         "type": "string"
        },
        {
         "name": "parental level of education",
         "rawType": "object",
         "type": "string"
        },
        {
         "name": "lunch",
         "rawType": "object",
         "type": "string"
        },
        {
         "name": "test preparation course",
         "rawType": "object",
         "type": "string"
        },
        {
         "name": "math score",
         "rawType": "int64",
         "type": "integer"
        },
        {
         "name": "reading score",
         "rawType": "int64",
         "type": "integer"
        },
        {
         "name": "writing score",
         "rawType": "int64",
         "type": "integer"
        }
       ],
       "ref": "0221cd67-26d6-4a1b-85ce-5083de8cead2",
       "rows": [
        [
         "0",
         "female",
         "group B",
         "bachelor's degree",
         "standard",
         "none",
         "72",
         "72",
         "74"
        ],
        [
         "1",
         "female",
         "group C",
         "some college",
         "standard",
         "completed",
         "69",
         "90",
         "88"
        ],
        [
         "2",
         "female",
         "group B",
         "master's degree",
         "standard",
         "none",
         "90",
         "95",
         "93"
        ],
        [
         "3",
         "male",
         "group A",
         "associate's degree",
         "free/reduced",
         "none",
         "47",
         "57",
         "44"
        ],
        [
         "4",
         "male",
         "group C",
         "some college",
         "standard",
         "none",
         "76",
         "78",
         "75"
        ]
       ],
       "shape": {
        "columns": 8,
        "rows": 5
       }
      },
      "text/html": [
       "<div>\n",
       "<style scoped>\n",
       "    .dataframe tbody tr th:only-of-type {\n",
       "        vertical-align: middle;\n",
       "    }\n",
       "\n",
       "    .dataframe tbody tr th {\n",
       "        vertical-align: top;\n",
       "    }\n",
       "\n",
       "    .dataframe thead th {\n",
       "        text-align: right;\n",
       "    }\n",
       "</style>\n",
       "<table border=\"1\" class=\"dataframe\">\n",
       "  <thead>\n",
       "    <tr style=\"text-align: right;\">\n",
       "      <th></th>\n",
       "      <th>gender</th>\n",
       "      <th>race/ethnicity</th>\n",
       "      <th>parental level of education</th>\n",
       "      <th>lunch</th>\n",
       "      <th>test preparation course</th>\n",
       "      <th>math score</th>\n",
       "      <th>reading score</th>\n",
       "      <th>writing score</th>\n",
       "    </tr>\n",
       "  </thead>\n",
       "  <tbody>\n",
       "    <tr>\n",
       "      <th>0</th>\n",
       "      <td>female</td>\n",
       "      <td>group B</td>\n",
       "      <td>bachelor's degree</td>\n",
       "      <td>standard</td>\n",
       "      <td>none</td>\n",
       "      <td>72</td>\n",
       "      <td>72</td>\n",
       "      <td>74</td>\n",
       "    </tr>\n",
       "    <tr>\n",
       "      <th>1</th>\n",
       "      <td>female</td>\n",
       "      <td>group C</td>\n",
       "      <td>some college</td>\n",
       "      <td>standard</td>\n",
       "      <td>completed</td>\n",
       "      <td>69</td>\n",
       "      <td>90</td>\n",
       "      <td>88</td>\n",
       "    </tr>\n",
       "    <tr>\n",
       "      <th>2</th>\n",
       "      <td>female</td>\n",
       "      <td>group B</td>\n",
       "      <td>master's degree</td>\n",
       "      <td>standard</td>\n",
       "      <td>none</td>\n",
       "      <td>90</td>\n",
       "      <td>95</td>\n",
       "      <td>93</td>\n",
       "    </tr>\n",
       "    <tr>\n",
       "      <th>3</th>\n",
       "      <td>male</td>\n",
       "      <td>group A</td>\n",
       "      <td>associate's degree</td>\n",
       "      <td>free/reduced</td>\n",
       "      <td>none</td>\n",
       "      <td>47</td>\n",
       "      <td>57</td>\n",
       "      <td>44</td>\n",
       "    </tr>\n",
       "    <tr>\n",
       "      <th>4</th>\n",
       "      <td>male</td>\n",
       "      <td>group C</td>\n",
       "      <td>some college</td>\n",
       "      <td>standard</td>\n",
       "      <td>none</td>\n",
       "      <td>76</td>\n",
       "      <td>78</td>\n",
       "      <td>75</td>\n",
       "    </tr>\n",
       "  </tbody>\n",
       "</table>\n",
       "</div>"
      ],
      "text/plain": [
       "   gender race/ethnicity parental level of education         lunch  \\\n",
       "0  female        group B           bachelor's degree      standard   \n",
       "1  female        group C                some college      standard   \n",
       "2  female        group B             master's degree      standard   \n",
       "3    male        group A          associate's degree  free/reduced   \n",
       "4    male        group C                some college      standard   \n",
       "\n",
       "  test preparation course  math score  reading score  writing score  \n",
       "0                    none          72             72             74  \n",
       "1               completed          69             90             88  \n",
       "2                    none          90             95             93  \n",
       "3                    none          47             57             44  \n",
       "4                    none          76             78             75  "
      ]
     },
     "execution_count": 3,
     "metadata": {},
     "output_type": "execute_result"
    }
   ],
   "source": [
    " # Exibe as primeiras linhas do DataFrame para verificar se os dados foram carregados corretamente\n",
    "BaseDados.head()"
   ]
  },
  {
   "cell_type": "code",
   "execution_count": 4,
   "id": "32da65e3",
   "metadata": {},
   "outputs": [
    {
     "data": {
      "text/plain": [
       "(1000, 8)"
      ]
     },
     "execution_count": 4,
     "metadata": {},
     "output_type": "execute_result"
    }
   ],
   "source": [
    "#EXIBE A QUANTIDADE DE LINHAS E COLUNAS DO DATAFRAME\n",
    "BaseDados.shape"
   ]
  },
  {
   "cell_type": "code",
   "execution_count": 5,
   "id": "6c649a83",
   "metadata": {},
   "outputs": [
    {
     "data": {
      "text/plain": [
       "Index(['gender', 'race/ethnicity', 'parental level of education', 'lunch',\n",
       "       'test preparation course', 'math score', 'reading score',\n",
       "       'writing score'],\n",
       "      dtype='object')"
      ]
     },
     "execution_count": 5,
     "metadata": {},
     "output_type": "execute_result"
    }
   ],
   "source": [
    "# EXIBE AS COLUNAS \"TÍTULOS\" DO DATAFRAME\n",
    "BaseDados.columns"
   ]
  },
  {
   "cell_type": "code",
   "execution_count": 6,
   "id": "8f674cf9",
   "metadata": {},
   "outputs": [
    {
     "data": {
      "text/plain": [
       "np.int64(0)"
      ]
     },
     "execution_count": 6,
     "metadata": {},
     "output_type": "execute_result"
    }
   ],
   "source": [
    "# EXIBE A QUANTIDADE DE INFORMAÇÕES DUPLICADAS NO DATAFRAME\n",
    "BaseDados.duplicated().sum()"
   ]
  },
  {
   "cell_type": "code",
   "execution_count": 7,
   "id": "9eac1e14",
   "metadata": {},
   "outputs": [
    {
     "name": "stdout",
     "output_type": "stream",
     "text": [
      "<class 'pandas.core.frame.DataFrame'>\n",
      "RangeIndex: 1000 entries, 0 to 999\n",
      "Data columns (total 8 columns):\n",
      " #   Column                       Non-Null Count  Dtype \n",
      "---  ------                       --------------  ----- \n",
      " 0   gender                       1000 non-null   object\n",
      " 1   race/ethnicity               1000 non-null   object\n",
      " 2   parental level of education  1000 non-null   object\n",
      " 3   lunch                        1000 non-null   object\n",
      " 4   test preparation course      1000 non-null   object\n",
      " 5   math score                   1000 non-null   int64 \n",
      " 6   reading score                1000 non-null   int64 \n",
      " 7   writing score                1000 non-null   int64 \n",
      "dtypes: int64(3), object(5)\n",
      "memory usage: 62.6+ KB\n"
     ]
    }
   ],
   "source": [
    "# EXIBE AS INFORMAÇÕES DO DATAFRAME, COMO TIPO DE DADOS E VALORES NULOS\n",
    "BaseDados.info()"
   ]
  },
  {
   "cell_type": "code",
   "execution_count": 8,
   "id": "42165fe7",
   "metadata": {},
   "outputs": [
    {
     "data": {
      "application/vnd.microsoft.datawrangler.viewer.v0+json": {
       "columns": [
        {
         "name": "index",
         "rawType": "object",
         "type": "string"
        },
        {
         "name": "0",
         "rawType": "int64",
         "type": "integer"
        }
       ],
       "ref": "172368e5-55b1-4d92-8e89-9074de00ea0a",
       "rows": [
        [
         "gender",
         "0"
        ],
        [
         "race/ethnicity",
         "0"
        ],
        [
         "parental level of education",
         "0"
        ],
        [
         "lunch",
         "0"
        ],
        [
         "test preparation course",
         "0"
        ],
        [
         "math score",
         "0"
        ],
        [
         "reading score",
         "0"
        ],
        [
         "writing score",
         "0"
        ]
       ],
       "shape": {
        "columns": 1,
        "rows": 8
       }
      },
      "text/plain": [
       "gender                         0\n",
       "race/ethnicity                 0\n",
       "parental level of education    0\n",
       "lunch                          0\n",
       "test preparation course        0\n",
       "math score                     0\n",
       "reading score                  0\n",
       "writing score                  0\n",
       "dtype: int64"
      ]
     },
     "execution_count": 8,
     "metadata": {},
     "output_type": "execute_result"
    }
   ],
   "source": [
    "# EXIBE A QUANTIDADE DE VALORES NULOS EM CADA COLUNA DO DATAFRAME\n",
    "BaseDados.isna().sum()"
   ]
  },
  {
   "cell_type": "code",
   "execution_count": 9,
   "id": "d73d6fb2",
   "metadata": {},
   "outputs": [
    {
     "data": {
      "application/vnd.microsoft.datawrangler.viewer.v0+json": {
       "columns": [
        {
         "name": "index",
         "rawType": "object",
         "type": "string"
        },
        {
         "name": "math score",
         "rawType": "float64",
         "type": "float"
        },
        {
         "name": "reading score",
         "rawType": "float64",
         "type": "float"
        },
        {
         "name": "writing score",
         "rawType": "float64",
         "type": "float"
        }
       ],
       "ref": "135c5bd1-3408-4d02-a151-046b157a9b1c",
       "rows": [
        [
         "count",
         "1000.0",
         "1000.0",
         "1000.0"
        ],
        [
         "mean",
         "66.089",
         "69.169",
         "68.054"
        ],
        [
         "std",
         "15.16308009600945",
         "14.600191937252216",
         "15.19565701086965"
        ],
        [
         "min",
         "0.0",
         "17.0",
         "10.0"
        ],
        [
         "25%",
         "57.0",
         "59.0",
         "57.75"
        ],
        [
         "50%",
         "66.0",
         "70.0",
         "69.0"
        ],
        [
         "75%",
         "77.0",
         "79.0",
         "79.0"
        ],
        [
         "max",
         "100.0",
         "100.0",
         "100.0"
        ]
       ],
       "shape": {
        "columns": 3,
        "rows": 8
       }
      },
      "text/html": [
       "<div>\n",
       "<style scoped>\n",
       "    .dataframe tbody tr th:only-of-type {\n",
       "        vertical-align: middle;\n",
       "    }\n",
       "\n",
       "    .dataframe tbody tr th {\n",
       "        vertical-align: top;\n",
       "    }\n",
       "\n",
       "    .dataframe thead th {\n",
       "        text-align: right;\n",
       "    }\n",
       "</style>\n",
       "<table border=\"1\" class=\"dataframe\">\n",
       "  <thead>\n",
       "    <tr style=\"text-align: right;\">\n",
       "      <th></th>\n",
       "      <th>math score</th>\n",
       "      <th>reading score</th>\n",
       "      <th>writing score</th>\n",
       "    </tr>\n",
       "  </thead>\n",
       "  <tbody>\n",
       "    <tr>\n",
       "      <th>count</th>\n",
       "      <td>1000.00000</td>\n",
       "      <td>1000.000000</td>\n",
       "      <td>1000.000000</td>\n",
       "    </tr>\n",
       "    <tr>\n",
       "      <th>mean</th>\n",
       "      <td>66.08900</td>\n",
       "      <td>69.169000</td>\n",
       "      <td>68.054000</td>\n",
       "    </tr>\n",
       "    <tr>\n",
       "      <th>std</th>\n",
       "      <td>15.16308</td>\n",
       "      <td>14.600192</td>\n",
       "      <td>15.195657</td>\n",
       "    </tr>\n",
       "    <tr>\n",
       "      <th>min</th>\n",
       "      <td>0.00000</td>\n",
       "      <td>17.000000</td>\n",
       "      <td>10.000000</td>\n",
       "    </tr>\n",
       "    <tr>\n",
       "      <th>25%</th>\n",
       "      <td>57.00000</td>\n",
       "      <td>59.000000</td>\n",
       "      <td>57.750000</td>\n",
       "    </tr>\n",
       "    <tr>\n",
       "      <th>50%</th>\n",
       "      <td>66.00000</td>\n",
       "      <td>70.000000</td>\n",
       "      <td>69.000000</td>\n",
       "    </tr>\n",
       "    <tr>\n",
       "      <th>75%</th>\n",
       "      <td>77.00000</td>\n",
       "      <td>79.000000</td>\n",
       "      <td>79.000000</td>\n",
       "    </tr>\n",
       "    <tr>\n",
       "      <th>max</th>\n",
       "      <td>100.00000</td>\n",
       "      <td>100.000000</td>\n",
       "      <td>100.000000</td>\n",
       "    </tr>\n",
       "  </tbody>\n",
       "</table>\n",
       "</div>"
      ],
      "text/plain": [
       "       math score  reading score  writing score\n",
       "count  1000.00000    1000.000000    1000.000000\n",
       "mean     66.08900      69.169000      68.054000\n",
       "std      15.16308      14.600192      15.195657\n",
       "min       0.00000      17.000000      10.000000\n",
       "25%      57.00000      59.000000      57.750000\n",
       "50%      66.00000      70.000000      69.000000\n",
       "75%      77.00000      79.000000      79.000000\n",
       "max     100.00000     100.000000     100.000000"
      ]
     },
     "execution_count": 9,
     "metadata": {},
     "output_type": "execute_result"
    }
   ],
   "source": [
    "# EXIBE ESTATÍSTICAS DESCRITIVAS DO DATAFRAME\n",
    "# Isso inclui contagem, média, desvio padrão, valores mínimo e máximo, e quartis\n",
    "BaseDados.describe()"
   ]
  },
  {
   "cell_type": "code",
   "execution_count": 10,
   "id": "e31429d9",
   "metadata": {},
   "outputs": [
    {
     "data": {
      "application/vnd.microsoft.datawrangler.viewer.v0+json": {
       "columns": [
        {
         "name": "index",
         "rawType": "object",
         "type": "string"
        },
        {
         "name": "gender",
         "rawType": "object",
         "type": "unknown"
        },
        {
         "name": "race/ethnicity",
         "rawType": "object",
         "type": "unknown"
        },
        {
         "name": "parental level of education",
         "rawType": "object",
         "type": "unknown"
        },
        {
         "name": "lunch",
         "rawType": "object",
         "type": "unknown"
        },
        {
         "name": "test preparation course",
         "rawType": "object",
         "type": "unknown"
        },
        {
         "name": "math score",
         "rawType": "float64",
         "type": "float"
        },
        {
         "name": "reading score",
         "rawType": "float64",
         "type": "float"
        },
        {
         "name": "writing score",
         "rawType": "float64",
         "type": "float"
        }
       ],
       "ref": "1474f36f-d824-43dd-9480-798b65487d4c",
       "rows": [
        [
         "count",
         "1000",
         "1000",
         "1000",
         "1000",
         "1000",
         "1000.0",
         "1000.0",
         "1000.0"
        ],
        [
         "unique",
         "2",
         "5",
         "6",
         "2",
         "2",
         null,
         null,
         null
        ],
        [
         "top",
         "female",
         "group C",
         "some college",
         "standard",
         "none",
         null,
         null,
         null
        ],
        [
         "freq",
         "518",
         "319",
         "226",
         "645",
         "642",
         null,
         null,
         null
        ],
        [
         "mean",
         null,
         null,
         null,
         null,
         null,
         "66.089",
         "69.169",
         "68.054"
        ],
        [
         "std",
         null,
         null,
         null,
         null,
         null,
         "15.16308009600945",
         "14.600191937252216",
         "15.19565701086965"
        ],
        [
         "min",
         null,
         null,
         null,
         null,
         null,
         "0.0",
         "17.0",
         "10.0"
        ],
        [
         "25%",
         null,
         null,
         null,
         null,
         null,
         "57.0",
         "59.0",
         "57.75"
        ],
        [
         "50%",
         null,
         null,
         null,
         null,
         null,
         "66.0",
         "70.0",
         "69.0"
        ],
        [
         "75%",
         null,
         null,
         null,
         null,
         null,
         "77.0",
         "79.0",
         "79.0"
        ],
        [
         "max",
         null,
         null,
         null,
         null,
         null,
         "100.0",
         "100.0",
         "100.0"
        ]
       ],
       "shape": {
        "columns": 8,
        "rows": 11
       }
      },
      "text/html": [
       "<div>\n",
       "<style scoped>\n",
       "    .dataframe tbody tr th:only-of-type {\n",
       "        vertical-align: middle;\n",
       "    }\n",
       "\n",
       "    .dataframe tbody tr th {\n",
       "        vertical-align: top;\n",
       "    }\n",
       "\n",
       "    .dataframe thead th {\n",
       "        text-align: right;\n",
       "    }\n",
       "</style>\n",
       "<table border=\"1\" class=\"dataframe\">\n",
       "  <thead>\n",
       "    <tr style=\"text-align: right;\">\n",
       "      <th></th>\n",
       "      <th>gender</th>\n",
       "      <th>race/ethnicity</th>\n",
       "      <th>parental level of education</th>\n",
       "      <th>lunch</th>\n",
       "      <th>test preparation course</th>\n",
       "      <th>math score</th>\n",
       "      <th>reading score</th>\n",
       "      <th>writing score</th>\n",
       "    </tr>\n",
       "  </thead>\n",
       "  <tbody>\n",
       "    <tr>\n",
       "      <th>count</th>\n",
       "      <td>1000</td>\n",
       "      <td>1000</td>\n",
       "      <td>1000</td>\n",
       "      <td>1000</td>\n",
       "      <td>1000</td>\n",
       "      <td>1000.00000</td>\n",
       "      <td>1000.000000</td>\n",
       "      <td>1000.000000</td>\n",
       "    </tr>\n",
       "    <tr>\n",
       "      <th>unique</th>\n",
       "      <td>2</td>\n",
       "      <td>5</td>\n",
       "      <td>6</td>\n",
       "      <td>2</td>\n",
       "      <td>2</td>\n",
       "      <td>NaN</td>\n",
       "      <td>NaN</td>\n",
       "      <td>NaN</td>\n",
       "    </tr>\n",
       "    <tr>\n",
       "      <th>top</th>\n",
       "      <td>female</td>\n",
       "      <td>group C</td>\n",
       "      <td>some college</td>\n",
       "      <td>standard</td>\n",
       "      <td>none</td>\n",
       "      <td>NaN</td>\n",
       "      <td>NaN</td>\n",
       "      <td>NaN</td>\n",
       "    </tr>\n",
       "    <tr>\n",
       "      <th>freq</th>\n",
       "      <td>518</td>\n",
       "      <td>319</td>\n",
       "      <td>226</td>\n",
       "      <td>645</td>\n",
       "      <td>642</td>\n",
       "      <td>NaN</td>\n",
       "      <td>NaN</td>\n",
       "      <td>NaN</td>\n",
       "    </tr>\n",
       "    <tr>\n",
       "      <th>mean</th>\n",
       "      <td>NaN</td>\n",
       "      <td>NaN</td>\n",
       "      <td>NaN</td>\n",
       "      <td>NaN</td>\n",
       "      <td>NaN</td>\n",
       "      <td>66.08900</td>\n",
       "      <td>69.169000</td>\n",
       "      <td>68.054000</td>\n",
       "    </tr>\n",
       "    <tr>\n",
       "      <th>std</th>\n",
       "      <td>NaN</td>\n",
       "      <td>NaN</td>\n",
       "      <td>NaN</td>\n",
       "      <td>NaN</td>\n",
       "      <td>NaN</td>\n",
       "      <td>15.16308</td>\n",
       "      <td>14.600192</td>\n",
       "      <td>15.195657</td>\n",
       "    </tr>\n",
       "    <tr>\n",
       "      <th>min</th>\n",
       "      <td>NaN</td>\n",
       "      <td>NaN</td>\n",
       "      <td>NaN</td>\n",
       "      <td>NaN</td>\n",
       "      <td>NaN</td>\n",
       "      <td>0.00000</td>\n",
       "      <td>17.000000</td>\n",
       "      <td>10.000000</td>\n",
       "    </tr>\n",
       "    <tr>\n",
       "      <th>25%</th>\n",
       "      <td>NaN</td>\n",
       "      <td>NaN</td>\n",
       "      <td>NaN</td>\n",
       "      <td>NaN</td>\n",
       "      <td>NaN</td>\n",
       "      <td>57.00000</td>\n",
       "      <td>59.000000</td>\n",
       "      <td>57.750000</td>\n",
       "    </tr>\n",
       "    <tr>\n",
       "      <th>50%</th>\n",
       "      <td>NaN</td>\n",
       "      <td>NaN</td>\n",
       "      <td>NaN</td>\n",
       "      <td>NaN</td>\n",
       "      <td>NaN</td>\n",
       "      <td>66.00000</td>\n",
       "      <td>70.000000</td>\n",
       "      <td>69.000000</td>\n",
       "    </tr>\n",
       "    <tr>\n",
       "      <th>75%</th>\n",
       "      <td>NaN</td>\n",
       "      <td>NaN</td>\n",
       "      <td>NaN</td>\n",
       "      <td>NaN</td>\n",
       "      <td>NaN</td>\n",
       "      <td>77.00000</td>\n",
       "      <td>79.000000</td>\n",
       "      <td>79.000000</td>\n",
       "    </tr>\n",
       "    <tr>\n",
       "      <th>max</th>\n",
       "      <td>NaN</td>\n",
       "      <td>NaN</td>\n",
       "      <td>NaN</td>\n",
       "      <td>NaN</td>\n",
       "      <td>NaN</td>\n",
       "      <td>100.00000</td>\n",
       "      <td>100.000000</td>\n",
       "      <td>100.000000</td>\n",
       "    </tr>\n",
       "  </tbody>\n",
       "</table>\n",
       "</div>"
      ],
      "text/plain": [
       "        gender race/ethnicity parental level of education     lunch  \\\n",
       "count     1000           1000                        1000      1000   \n",
       "unique       2              5                           6         2   \n",
       "top     female        group C                some college  standard   \n",
       "freq       518            319                         226       645   \n",
       "mean       NaN            NaN                         NaN       NaN   \n",
       "std        NaN            NaN                         NaN       NaN   \n",
       "min        NaN            NaN                         NaN       NaN   \n",
       "25%        NaN            NaN                         NaN       NaN   \n",
       "50%        NaN            NaN                         NaN       NaN   \n",
       "75%        NaN            NaN                         NaN       NaN   \n",
       "max        NaN            NaN                         NaN       NaN   \n",
       "\n",
       "       test preparation course  math score  reading score  writing score  \n",
       "count                     1000  1000.00000    1000.000000    1000.000000  \n",
       "unique                       2         NaN            NaN            NaN  \n",
       "top                       none         NaN            NaN            NaN  \n",
       "freq                       642         NaN            NaN            NaN  \n",
       "mean                       NaN    66.08900      69.169000      68.054000  \n",
       "std                        NaN    15.16308      14.600192      15.195657  \n",
       "min                        NaN     0.00000      17.000000      10.000000  \n",
       "25%                        NaN    57.00000      59.000000      57.750000  \n",
       "50%                        NaN    66.00000      70.000000      69.000000  \n",
       "75%                        NaN    77.00000      79.000000      79.000000  \n",
       "max                        NaN   100.00000     100.000000     100.000000  "
      ]
     },
     "execution_count": 10,
     "metadata": {},
     "output_type": "execute_result"
    }
   ],
   "source": [
    "# Exibe estatísticas descritivas de todas as colunas do DataFrame, incluindo variáveis categóricas e numéricas\n",
    "BaseDados.describe(include='all')"
   ]
  },
  {
   "cell_type": "code",
   "execution_count": 11,
   "id": "9411905c",
   "metadata": {},
   "outputs": [
    {
     "data": {
      "application/vnd.microsoft.datawrangler.viewer.v0+json": {
       "columns": [
        {
         "name": "index",
         "rawType": "object",
         "type": "string"
        },
        {
         "name": "0",
         "rawType": "int64",
         "type": "integer"
        }
       ],
       "ref": "43b6863e-13b2-42c3-8b21-056f05c0c659",
       "rows": [
        [
         "gender",
         "2"
        ],
        [
         "race/ethnicity",
         "5"
        ],
        [
         "parental level of education",
         "6"
        ],
        [
         "lunch",
         "2"
        ],
        [
         "test preparation course",
         "2"
        ],
        [
         "math score",
         "81"
        ],
        [
         "reading score",
         "72"
        ],
        [
         "writing score",
         "77"
        ]
       ],
       "shape": {
        "columns": 1,
        "rows": 8
       }
      },
      "text/plain": [
       "gender                          2\n",
       "race/ethnicity                  5\n",
       "parental level of education     6\n",
       "lunch                           2\n",
       "test preparation course         2\n",
       "math score                     81\n",
       "reading score                  72\n",
       "writing score                  77\n",
       "dtype: int64"
      ]
     },
     "execution_count": 11,
     "metadata": {},
     "output_type": "execute_result"
    }
   ],
   "source": [
    "# EXIBE A QUANTIDADE DE VALORES ÚNICOS EM CADA COLUNA DO DATAFRAME\n",
    "# Isso é útil para entender a diversidade de dados em cada coluna\n",
    "BaseDados.nunique()"
   ]
  },
  {
   "cell_type": "code",
   "execution_count": 12,
   "id": "a48c1530",
   "metadata": {},
   "outputs": [
    {
     "data": {
      "text/plain": [
       "array([\"bachelor's degree\", 'some college', \"master's degree\",\n",
       "       \"associate's degree\", 'high school', 'some high school'],\n",
       "      dtype=object)"
      ]
     },
     "execution_count": 12,
     "metadata": {},
     "output_type": "execute_result"
    }
   ],
   "source": [
    "# EXIBE A QUANTIDADE DE VALORES ÚNICOS NA COLUNA \"parental level of education\"\n",
    "# Isso ajuda a entender a distribuição dos níveis de educação dos pais dos alunos\n",
    "BaseDados['parental level of education'].unique()"
   ]
  },
  {
   "cell_type": "code",
   "execution_count": 13,
   "id": "34302a80",
   "metadata": {},
   "outputs": [
    {
     "data": {
      "application/vnd.microsoft.datawrangler.viewer.v0+json": {
       "columns": [
        {
         "name": "gender",
         "rawType": "object",
         "type": "string"
        },
        {
         "name": "count",
         "rawType": "int64",
         "type": "integer"
        }
       ],
       "ref": "35bd7f17-3eeb-44b1-8078-c2a61807fb27",
       "rows": [
        [
         "female",
         "518"
        ],
        [
         "male",
         "482"
        ]
       ],
       "shape": {
        "columns": 1,
        "rows": 2
       }
      },
      "text/plain": [
       "gender\n",
       "female    518\n",
       "male      482\n",
       "Name: count, dtype: int64"
      ]
     },
     "execution_count": 13,
     "metadata": {},
     "output_type": "execute_result"
    }
   ],
   "source": [
    "# QUANTIDADE DE FREQUÊNCIA DA COLUNA 'GENDER\".\n",
    "BaseDados.gender.value_counts()"
   ]
  },
  {
   "cell_type": "code",
   "execution_count": 14,
   "id": "50a23235",
   "metadata": {},
   "outputs": [
    {
     "data": {
      "application/vnd.microsoft.datawrangler.viewer.v0+json": {
       "columns": [
        {
         "name": "index",
         "rawType": "int64",
         "type": "integer"
        },
        {
         "name": "gender",
         "rawType": "object",
         "type": "string"
        },
        {
         "name": "race/ethnicity",
         "rawType": "object",
         "type": "string"
        },
        {
         "name": "parental level of education",
         "rawType": "object",
         "type": "string"
        },
        {
         "name": "lunch",
         "rawType": "object",
         "type": "string"
        },
        {
         "name": "test preparation course",
         "rawType": "object",
         "type": "string"
        },
        {
         "name": "math score",
         "rawType": "int64",
         "type": "integer"
        },
        {
         "name": "reading score",
         "rawType": "int64",
         "type": "integer"
        },
        {
         "name": "writing score",
         "rawType": "int64",
         "type": "integer"
        }
       ],
       "ref": "7b937336-17f7-4047-b30f-0925187c7cc2",
       "rows": [
        [
         "0",
         "female",
         "group E",
         "bachelor's degree",
         "standard",
         "none",
         "100",
         "100",
         "100"
        ],
        [
         "1",
         "male",
         "group E",
         "bachelor's degree",
         "standard",
         "completed",
         "100",
         "100",
         "100"
        ],
        [
         "2",
         "female",
         "group E",
         "associate's degree",
         "standard",
         "none",
         "100",
         "100",
         "100"
        ],
        [
         "3",
         "male",
         "group E",
         "associate's degree",
         "free/reduced",
         "completed",
         "100",
         "100",
         "93"
        ],
        [
         "4",
         "male",
         "group D",
         "some college",
         "standard",
         "completed",
         "100",
         "97",
         "99"
        ],
        [
         "5",
         "male",
         "group A",
         "some college",
         "standard",
         "completed",
         "100",
         "96",
         "86"
        ],
        [
         "6",
         "female",
         "group E",
         "some college",
         "standard",
         "none",
         "100",
         "92",
         "97"
        ],
        [
         "7",
         "female",
         "group E",
         "bachelor's degree",
         "standard",
         "completed",
         "99",
         "100",
         "100"
        ],
        [
         "8",
         "female",
         "group E",
         "high school",
         "standard",
         "none",
         "99",
         "93",
         "90"
        ],
        [
         "9",
         "male",
         "group E",
         "some college",
         "standard",
         "completed",
         "99",
         "87",
         "81"
        ],
        [
         "10",
         "female",
         "group D",
         "some college",
         "standard",
         "none",
         "98",
         "100",
         "99"
        ],
        [
         "11",
         "male",
         "group C",
         "associate's degree",
         "standard",
         "completed",
         "98",
         "87",
         "90"
        ],
        [
         "12",
         "male",
         "group C",
         "some college",
         "standard",
         "completed",
         "98",
         "86",
         "90"
        ],
        [
         "13",
         "female",
         "group D",
         "some high school",
         "standard",
         "completed",
         "97",
         "100",
         "100"
        ],
        [
         "14",
         "female",
         "group B",
         "bachelor's degree",
         "standard",
         "none",
         "97",
         "97",
         "96"
        ],
        [
         "15",
         "male",
         "group C",
         "associate's degree",
         "standard",
         "none",
         "97",
         "93",
         "91"
        ],
        [
         "16",
         "male",
         "group A",
         "associate's degree",
         "standard",
         "completed",
         "97",
         "92",
         "86"
        ],
        [
         "17",
         "male",
         "group E",
         "some college",
         "standard",
         "none",
         "97",
         "87",
         "82"
        ],
        [
         "18",
         "male",
         "group E",
         "associate's degree",
         "standard",
         "completed",
         "97",
         "82",
         "88"
        ],
        [
         "19",
         "female",
         "group C",
         "bachelor's degree",
         "standard",
         "completed",
         "96",
         "100",
         "100"
        ],
        [
         "20",
         "female",
         "group C",
         "associate's degree",
         "standard",
         "completed",
         "96",
         "96",
         "99"
        ],
        [
         "21",
         "male",
         "group C",
         "bachelor's degree",
         "standard",
         "completed",
         "96",
         "90",
         "92"
        ],
        [
         "22",
         "female",
         "group E",
         "associate's degree",
         "standard",
         "completed",
         "95",
         "89",
         "92"
        ],
        [
         "23",
         "male",
         "group D",
         "master's degree",
         "standard",
         "none",
         "95",
         "81",
         "84"
        ],
        [
         "24",
         "female",
         "group E",
         "master's degree",
         "standard",
         "completed",
         "94",
         "99",
         "100"
        ],
        [
         "25",
         "male",
         "group C",
         "bachelor's degree",
         "standard",
         "completed",
         "94",
         "90",
         "91"
        ],
        [
         "26",
         "male",
         "group E",
         "some high school",
         "standard",
         "none",
         "94",
         "88",
         "78"
        ],
        [
         "27",
         "female",
         "group B",
         "associate's degree",
         "standard",
         "completed",
         "94",
         "87",
         "92"
        ],
        [
         "28",
         "male",
         "group B",
         "some high school",
         "standard",
         "completed",
         "94",
         "86",
         "87"
        ],
        [
         "29",
         "male",
         "group E",
         "associate's degree",
         "standard",
         "completed",
         "94",
         "85",
         "82"
        ],
        [
         "30",
         "male",
         "group E",
         "high school",
         "standard",
         "none",
         "94",
         "73",
         "71"
        ],
        [
         "31",
         "female",
         "group D",
         "bachelor's degree",
         "free/reduced",
         "completed",
         "93",
         "100",
         "100"
        ],
        [
         "32",
         "female",
         "group E",
         "associate's degree",
         "standard",
         "completed",
         "93",
         "100",
         "95"
        ],
        [
         "33",
         "male",
         "group E",
         "some college",
         "free/reduced",
         "none",
         "93",
         "90",
         "83"
        ],
        [
         "34",
         "male",
         "group C",
         "some college",
         "standard",
         "completed",
         "93",
         "84",
         "90"
        ],
        [
         "35",
         "female",
         "group E",
         "bachelor's degree",
         "free/reduced",
         "completed",
         "92",
         "100",
         "100"
        ],
        [
         "36",
         "female",
         "group D",
         "master's degree",
         "standard",
         "none",
         "92",
         "100",
         "100"
        ],
        [
         "37",
         "female",
         "group C",
         "bachelor's degree",
         "standard",
         "completed",
         "92",
         "100",
         "99"
        ],
        [
         "38",
         "female",
         "group A",
         "some high school",
         "standard",
         "completed",
         "92",
         "100",
         "97"
        ],
        [
         "39",
         "male",
         "group E",
         "some high school",
         "standard",
         "none",
         "92",
         "87",
         "78"
        ],
        [
         "40",
         "male",
         "group C",
         "associate's degree",
         "standard",
         "none",
         "92",
         "79",
         "84"
        ],
        [
         "41",
         "male",
         "group A",
         "bachelor's degree",
         "standard",
         "none",
         "91",
         "96",
         "92"
        ],
        [
         "42",
         "male",
         "group B",
         "some college",
         "standard",
         "completed",
         "91",
         "96",
         "91"
        ],
        [
         "43",
         "female",
         "group C",
         "associate's degree",
         "standard",
         "none",
         "91",
         "95",
         "94"
        ],
        [
         "44",
         "male",
         "group B",
         "associate's degree",
         "standard",
         "completed",
         "91",
         "89",
         "92"
        ],
        [
         "45",
         "female",
         "group C",
         "associate's degree",
         "standard",
         "none",
         "91",
         "86",
         "84"
        ],
        [
         "46",
         "male",
         "group C",
         "master's degree",
         "standard",
         "completed",
         "91",
         "85",
         "85"
        ],
        [
         "47",
         "male",
         "group C",
         "bachelor's degree",
         "standard",
         "completed",
         "91",
         "81",
         "79"
        ],
        [
         "48",
         "male",
         "group C",
         "some college",
         "standard",
         "none",
         "91",
         "74",
         "76"
        ],
        [
         "49",
         "male",
         "group E",
         "associate's degree",
         "free/reduced",
         "completed",
         "91",
         "73",
         "80"
        ]
       ],
       "shape": {
        "columns": 8,
        "rows": 1000
       }
      },
      "text/html": [
       "<div>\n",
       "<style scoped>\n",
       "    .dataframe tbody tr th:only-of-type {\n",
       "        vertical-align: middle;\n",
       "    }\n",
       "\n",
       "    .dataframe tbody tr th {\n",
       "        vertical-align: top;\n",
       "    }\n",
       "\n",
       "    .dataframe thead th {\n",
       "        text-align: right;\n",
       "    }\n",
       "</style>\n",
       "<table border=\"1\" class=\"dataframe\">\n",
       "  <thead>\n",
       "    <tr style=\"text-align: right;\">\n",
       "      <th></th>\n",
       "      <th>gender</th>\n",
       "      <th>race/ethnicity</th>\n",
       "      <th>parental level of education</th>\n",
       "      <th>lunch</th>\n",
       "      <th>test preparation course</th>\n",
       "      <th>math score</th>\n",
       "      <th>reading score</th>\n",
       "      <th>writing score</th>\n",
       "    </tr>\n",
       "  </thead>\n",
       "  <tbody>\n",
       "    <tr>\n",
       "      <th>0</th>\n",
       "      <td>female</td>\n",
       "      <td>group E</td>\n",
       "      <td>bachelor's degree</td>\n",
       "      <td>standard</td>\n",
       "      <td>none</td>\n",
       "      <td>100</td>\n",
       "      <td>100</td>\n",
       "      <td>100</td>\n",
       "    </tr>\n",
       "    <tr>\n",
       "      <th>1</th>\n",
       "      <td>male</td>\n",
       "      <td>group E</td>\n",
       "      <td>bachelor's degree</td>\n",
       "      <td>standard</td>\n",
       "      <td>completed</td>\n",
       "      <td>100</td>\n",
       "      <td>100</td>\n",
       "      <td>100</td>\n",
       "    </tr>\n",
       "    <tr>\n",
       "      <th>2</th>\n",
       "      <td>female</td>\n",
       "      <td>group E</td>\n",
       "      <td>associate's degree</td>\n",
       "      <td>standard</td>\n",
       "      <td>none</td>\n",
       "      <td>100</td>\n",
       "      <td>100</td>\n",
       "      <td>100</td>\n",
       "    </tr>\n",
       "    <tr>\n",
       "      <th>3</th>\n",
       "      <td>male</td>\n",
       "      <td>group E</td>\n",
       "      <td>associate's degree</td>\n",
       "      <td>free/reduced</td>\n",
       "      <td>completed</td>\n",
       "      <td>100</td>\n",
       "      <td>100</td>\n",
       "      <td>93</td>\n",
       "    </tr>\n",
       "    <tr>\n",
       "      <th>4</th>\n",
       "      <td>male</td>\n",
       "      <td>group D</td>\n",
       "      <td>some college</td>\n",
       "      <td>standard</td>\n",
       "      <td>completed</td>\n",
       "      <td>100</td>\n",
       "      <td>97</td>\n",
       "      <td>99</td>\n",
       "    </tr>\n",
       "    <tr>\n",
       "      <th>...</th>\n",
       "      <td>...</td>\n",
       "      <td>...</td>\n",
       "      <td>...</td>\n",
       "      <td>...</td>\n",
       "      <td>...</td>\n",
       "      <td>...</td>\n",
       "      <td>...</td>\n",
       "      <td>...</td>\n",
       "    </tr>\n",
       "    <tr>\n",
       "      <th>995</th>\n",
       "      <td>female</td>\n",
       "      <td>group C</td>\n",
       "      <td>some college</td>\n",
       "      <td>free/reduced</td>\n",
       "      <td>none</td>\n",
       "      <td>22</td>\n",
       "      <td>39</td>\n",
       "      <td>33</td>\n",
       "    </tr>\n",
       "    <tr>\n",
       "      <th>996</th>\n",
       "      <td>female</td>\n",
       "      <td>group B</td>\n",
       "      <td>some college</td>\n",
       "      <td>standard</td>\n",
       "      <td>none</td>\n",
       "      <td>19</td>\n",
       "      <td>38</td>\n",
       "      <td>32</td>\n",
       "    </tr>\n",
       "    <tr>\n",
       "      <th>997</th>\n",
       "      <td>female</td>\n",
       "      <td>group B</td>\n",
       "      <td>some high school</td>\n",
       "      <td>free/reduced</td>\n",
       "      <td>none</td>\n",
       "      <td>18</td>\n",
       "      <td>32</td>\n",
       "      <td>28</td>\n",
       "    </tr>\n",
       "    <tr>\n",
       "      <th>998</th>\n",
       "      <td>female</td>\n",
       "      <td>group B</td>\n",
       "      <td>high school</td>\n",
       "      <td>free/reduced</td>\n",
       "      <td>none</td>\n",
       "      <td>8</td>\n",
       "      <td>24</td>\n",
       "      <td>23</td>\n",
       "    </tr>\n",
       "    <tr>\n",
       "      <th>999</th>\n",
       "      <td>female</td>\n",
       "      <td>group C</td>\n",
       "      <td>some high school</td>\n",
       "      <td>free/reduced</td>\n",
       "      <td>none</td>\n",
       "      <td>0</td>\n",
       "      <td>17</td>\n",
       "      <td>10</td>\n",
       "    </tr>\n",
       "  </tbody>\n",
       "</table>\n",
       "<p>1000 rows × 8 columns</p>\n",
       "</div>"
      ],
      "text/plain": [
       "     gender race/ethnicity parental level of education         lunch  \\\n",
       "0    female        group E           bachelor's degree      standard   \n",
       "1      male        group E           bachelor's degree      standard   \n",
       "2    female        group E          associate's degree      standard   \n",
       "3      male        group E          associate's degree  free/reduced   \n",
       "4      male        group D                some college      standard   \n",
       "..      ...            ...                         ...           ...   \n",
       "995  female        group C                some college  free/reduced   \n",
       "996  female        group B                some college      standard   \n",
       "997  female        group B            some high school  free/reduced   \n",
       "998  female        group B                 high school  free/reduced   \n",
       "999  female        group C            some high school  free/reduced   \n",
       "\n",
       "    test preparation course  math score  reading score  writing score  \n",
       "0                      none         100            100            100  \n",
       "1                 completed         100            100            100  \n",
       "2                      none         100            100            100  \n",
       "3                 completed         100            100             93  \n",
       "4                 completed         100             97             99  \n",
       "..                      ...         ...            ...            ...  \n",
       "995                    none          22             39             33  \n",
       "996                    none          19             38             32  \n",
       "997                    none          18             32             28  \n",
       "998                    none           8             24             23  \n",
       "999                    none           0             17             10  \n",
       "\n",
       "[1000 rows x 8 columns]"
      ]
     },
     "execution_count": 14,
     "metadata": {},
     "output_type": "execute_result"
    }
   ],
   "source": [
    "# CRIANDO UMA LISTA COM AS COLUNAS DE PROVAS\n",
    "provas = [\"math score\", \"reading score\", \"writing score\"]\n",
    "\n",
    "# ORDENANDO O DATAFRAME PELA COLUNA - PROVAS - EM ORDEM DECRESCENTE, DESCARTANDO O INDICE ANTERIOR\n",
    "BaseDados = BaseDados.sort_values(by=provas, ascending=False).reset_index(drop=True)\n",
    "BaseDados"
   ]
  },
  {
   "cell_type": "code",
   "execution_count": 15,
   "id": "91c2c6de",
   "metadata": {},
   "outputs": [
    {
     "data": {
      "application/vnd.microsoft.datawrangler.viewer.v0+json": {
       "columns": [
        {
         "name": "index",
         "rawType": "int64",
         "type": "integer"
        },
        {
         "name": "gender",
         "rawType": "object",
         "type": "string"
        },
        {
         "name": "race/ethnicity",
         "rawType": "object",
         "type": "string"
        },
        {
         "name": "parental level of education",
         "rawType": "object",
         "type": "string"
        },
        {
         "name": "lunch",
         "rawType": "object",
         "type": "string"
        },
        {
         "name": "test preparation course",
         "rawType": "object",
         "type": "string"
        },
        {
         "name": "math score",
         "rawType": "int64",
         "type": "integer"
        },
        {
         "name": "reading score",
         "rawType": "int64",
         "type": "integer"
        },
        {
         "name": "writing score",
         "rawType": "int64",
         "type": "integer"
        },
        {
         "name": "MÉDIA",
         "rawType": "float64",
         "type": "float"
        }
       ],
       "ref": "d3f93b6c-ab59-4215-a8d2-edebb265eade",
       "rows": [
        [
         "0",
         "female",
         "group E",
         "bachelor's degree",
         "standard",
         "none",
         "100",
         "100",
         "100",
         "100.0"
        ],
        [
         "1",
         "male",
         "group E",
         "bachelor's degree",
         "standard",
         "completed",
         "100",
         "100",
         "100",
         "100.0"
        ],
        [
         "2",
         "female",
         "group E",
         "associate's degree",
         "standard",
         "none",
         "100",
         "100",
         "100",
         "100.0"
        ],
        [
         "3",
         "male",
         "group E",
         "associate's degree",
         "free/reduced",
         "completed",
         "100",
         "100",
         "93",
         "97.66666666666667"
        ],
        [
         "4",
         "male",
         "group D",
         "some college",
         "standard",
         "completed",
         "100",
         "97",
         "99",
         "98.66666666666667"
        ],
        [
         "5",
         "male",
         "group A",
         "some college",
         "standard",
         "completed",
         "100",
         "96",
         "86",
         "94.0"
        ],
        [
         "6",
         "female",
         "group E",
         "some college",
         "standard",
         "none",
         "100",
         "92",
         "97",
         "96.33333333333333"
        ],
        [
         "7",
         "female",
         "group E",
         "bachelor's degree",
         "standard",
         "completed",
         "99",
         "100",
         "100",
         "99.66666666666667"
        ],
        [
         "8",
         "female",
         "group E",
         "high school",
         "standard",
         "none",
         "99",
         "93",
         "90",
         "94.0"
        ],
        [
         "9",
         "male",
         "group E",
         "some college",
         "standard",
         "completed",
         "99",
         "87",
         "81",
         "89.0"
        ],
        [
         "10",
         "female",
         "group D",
         "some college",
         "standard",
         "none",
         "98",
         "100",
         "99",
         "99.0"
        ],
        [
         "11",
         "male",
         "group C",
         "associate's degree",
         "standard",
         "completed",
         "98",
         "87",
         "90",
         "91.66666666666667"
        ],
        [
         "12",
         "male",
         "group C",
         "some college",
         "standard",
         "completed",
         "98",
         "86",
         "90",
         "91.33333333333333"
        ],
        [
         "13",
         "female",
         "group D",
         "some high school",
         "standard",
         "completed",
         "97",
         "100",
         "100",
         "99.0"
        ],
        [
         "14",
         "female",
         "group B",
         "bachelor's degree",
         "standard",
         "none",
         "97",
         "97",
         "96",
         "96.66666666666667"
        ],
        [
         "15",
         "male",
         "group C",
         "associate's degree",
         "standard",
         "none",
         "97",
         "93",
         "91",
         "93.66666666666667"
        ],
        [
         "16",
         "male",
         "group A",
         "associate's degree",
         "standard",
         "completed",
         "97",
         "92",
         "86",
         "91.66666666666667"
        ],
        [
         "17",
         "male",
         "group E",
         "some college",
         "standard",
         "none",
         "97",
         "87",
         "82",
         "88.66666666666667"
        ],
        [
         "18",
         "male",
         "group E",
         "associate's degree",
         "standard",
         "completed",
         "97",
         "82",
         "88",
         "89.0"
        ],
        [
         "19",
         "female",
         "group C",
         "bachelor's degree",
         "standard",
         "completed",
         "96",
         "100",
         "100",
         "98.66666666666667"
        ],
        [
         "20",
         "female",
         "group C",
         "associate's degree",
         "standard",
         "completed",
         "96",
         "96",
         "99",
         "97.0"
        ],
        [
         "21",
         "male",
         "group C",
         "bachelor's degree",
         "standard",
         "completed",
         "96",
         "90",
         "92",
         "92.66666666666667"
        ],
        [
         "22",
         "female",
         "group E",
         "associate's degree",
         "standard",
         "completed",
         "95",
         "89",
         "92",
         "92.0"
        ],
        [
         "23",
         "male",
         "group D",
         "master's degree",
         "standard",
         "none",
         "95",
         "81",
         "84",
         "86.66666666666667"
        ],
        [
         "24",
         "female",
         "group E",
         "master's degree",
         "standard",
         "completed",
         "94",
         "99",
         "100",
         "97.66666666666667"
        ],
        [
         "25",
         "male",
         "group C",
         "bachelor's degree",
         "standard",
         "completed",
         "94",
         "90",
         "91",
         "91.66666666666667"
        ],
        [
         "26",
         "male",
         "group E",
         "some high school",
         "standard",
         "none",
         "94",
         "88",
         "78",
         "86.66666666666667"
        ],
        [
         "27",
         "female",
         "group B",
         "associate's degree",
         "standard",
         "completed",
         "94",
         "87",
         "92",
         "91.0"
        ],
        [
         "28",
         "male",
         "group B",
         "some high school",
         "standard",
         "completed",
         "94",
         "86",
         "87",
         "89.0"
        ],
        [
         "29",
         "male",
         "group E",
         "associate's degree",
         "standard",
         "completed",
         "94",
         "85",
         "82",
         "87.0"
        ],
        [
         "30",
         "male",
         "group E",
         "high school",
         "standard",
         "none",
         "94",
         "73",
         "71",
         "79.33333333333333"
        ],
        [
         "31",
         "female",
         "group D",
         "bachelor's degree",
         "free/reduced",
         "completed",
         "93",
         "100",
         "100",
         "97.66666666666667"
        ],
        [
         "32",
         "female",
         "group E",
         "associate's degree",
         "standard",
         "completed",
         "93",
         "100",
         "95",
         "96.0"
        ],
        [
         "33",
         "male",
         "group E",
         "some college",
         "free/reduced",
         "none",
         "93",
         "90",
         "83",
         "88.66666666666667"
        ],
        [
         "34",
         "male",
         "group C",
         "some college",
         "standard",
         "completed",
         "93",
         "84",
         "90",
         "89.0"
        ],
        [
         "35",
         "female",
         "group E",
         "bachelor's degree",
         "free/reduced",
         "completed",
         "92",
         "100",
         "100",
         "97.33333333333333"
        ],
        [
         "36",
         "female",
         "group D",
         "master's degree",
         "standard",
         "none",
         "92",
         "100",
         "100",
         "97.33333333333333"
        ],
        [
         "37",
         "female",
         "group C",
         "bachelor's degree",
         "standard",
         "completed",
         "92",
         "100",
         "99",
         "97.0"
        ],
        [
         "38",
         "female",
         "group A",
         "some high school",
         "standard",
         "completed",
         "92",
         "100",
         "97",
         "96.33333333333333"
        ],
        [
         "39",
         "male",
         "group E",
         "some high school",
         "standard",
         "none",
         "92",
         "87",
         "78",
         "85.66666666666667"
        ],
        [
         "40",
         "male",
         "group C",
         "associate's degree",
         "standard",
         "none",
         "92",
         "79",
         "84",
         "85.0"
        ],
        [
         "41",
         "male",
         "group A",
         "bachelor's degree",
         "standard",
         "none",
         "91",
         "96",
         "92",
         "93.0"
        ],
        [
         "42",
         "male",
         "group B",
         "some college",
         "standard",
         "completed",
         "91",
         "96",
         "91",
         "92.66666666666667"
        ],
        [
         "43",
         "female",
         "group C",
         "associate's degree",
         "standard",
         "none",
         "91",
         "95",
         "94",
         "93.33333333333333"
        ],
        [
         "44",
         "male",
         "group B",
         "associate's degree",
         "standard",
         "completed",
         "91",
         "89",
         "92",
         "90.66666666666667"
        ],
        [
         "45",
         "female",
         "group C",
         "associate's degree",
         "standard",
         "none",
         "91",
         "86",
         "84",
         "87.0"
        ],
        [
         "46",
         "male",
         "group C",
         "master's degree",
         "standard",
         "completed",
         "91",
         "85",
         "85",
         "87.0"
        ],
        [
         "47",
         "male",
         "group C",
         "bachelor's degree",
         "standard",
         "completed",
         "91",
         "81",
         "79",
         "83.66666666666667"
        ],
        [
         "48",
         "male",
         "group C",
         "some college",
         "standard",
         "none",
         "91",
         "74",
         "76",
         "80.33333333333333"
        ],
        [
         "49",
         "male",
         "group E",
         "associate's degree",
         "free/reduced",
         "completed",
         "91",
         "73",
         "80",
         "81.33333333333333"
        ]
       ],
       "shape": {
        "columns": 9,
        "rows": 1000
       }
      },
      "text/html": [
       "<div>\n",
       "<style scoped>\n",
       "    .dataframe tbody tr th:only-of-type {\n",
       "        vertical-align: middle;\n",
       "    }\n",
       "\n",
       "    .dataframe tbody tr th {\n",
       "        vertical-align: top;\n",
       "    }\n",
       "\n",
       "    .dataframe thead th {\n",
       "        text-align: right;\n",
       "    }\n",
       "</style>\n",
       "<table border=\"1\" class=\"dataframe\">\n",
       "  <thead>\n",
       "    <tr style=\"text-align: right;\">\n",
       "      <th></th>\n",
       "      <th>gender</th>\n",
       "      <th>race/ethnicity</th>\n",
       "      <th>parental level of education</th>\n",
       "      <th>lunch</th>\n",
       "      <th>test preparation course</th>\n",
       "      <th>math score</th>\n",
       "      <th>reading score</th>\n",
       "      <th>writing score</th>\n",
       "      <th>MÉDIA</th>\n",
       "    </tr>\n",
       "  </thead>\n",
       "  <tbody>\n",
       "    <tr>\n",
       "      <th>0</th>\n",
       "      <td>female</td>\n",
       "      <td>group E</td>\n",
       "      <td>bachelor's degree</td>\n",
       "      <td>standard</td>\n",
       "      <td>none</td>\n",
       "      <td>100</td>\n",
       "      <td>100</td>\n",
       "      <td>100</td>\n",
       "      <td>100.000000</td>\n",
       "    </tr>\n",
       "    <tr>\n",
       "      <th>1</th>\n",
       "      <td>male</td>\n",
       "      <td>group E</td>\n",
       "      <td>bachelor's degree</td>\n",
       "      <td>standard</td>\n",
       "      <td>completed</td>\n",
       "      <td>100</td>\n",
       "      <td>100</td>\n",
       "      <td>100</td>\n",
       "      <td>100.000000</td>\n",
       "    </tr>\n",
       "    <tr>\n",
       "      <th>2</th>\n",
       "      <td>female</td>\n",
       "      <td>group E</td>\n",
       "      <td>associate's degree</td>\n",
       "      <td>standard</td>\n",
       "      <td>none</td>\n",
       "      <td>100</td>\n",
       "      <td>100</td>\n",
       "      <td>100</td>\n",
       "      <td>100.000000</td>\n",
       "    </tr>\n",
       "    <tr>\n",
       "      <th>3</th>\n",
       "      <td>male</td>\n",
       "      <td>group E</td>\n",
       "      <td>associate's degree</td>\n",
       "      <td>free/reduced</td>\n",
       "      <td>completed</td>\n",
       "      <td>100</td>\n",
       "      <td>100</td>\n",
       "      <td>93</td>\n",
       "      <td>97.666667</td>\n",
       "    </tr>\n",
       "    <tr>\n",
       "      <th>4</th>\n",
       "      <td>male</td>\n",
       "      <td>group D</td>\n",
       "      <td>some college</td>\n",
       "      <td>standard</td>\n",
       "      <td>completed</td>\n",
       "      <td>100</td>\n",
       "      <td>97</td>\n",
       "      <td>99</td>\n",
       "      <td>98.666667</td>\n",
       "    </tr>\n",
       "    <tr>\n",
       "      <th>...</th>\n",
       "      <td>...</td>\n",
       "      <td>...</td>\n",
       "      <td>...</td>\n",
       "      <td>...</td>\n",
       "      <td>...</td>\n",
       "      <td>...</td>\n",
       "      <td>...</td>\n",
       "      <td>...</td>\n",
       "      <td>...</td>\n",
       "    </tr>\n",
       "    <tr>\n",
       "      <th>995</th>\n",
       "      <td>female</td>\n",
       "      <td>group C</td>\n",
       "      <td>some college</td>\n",
       "      <td>free/reduced</td>\n",
       "      <td>none</td>\n",
       "      <td>22</td>\n",
       "      <td>39</td>\n",
       "      <td>33</td>\n",
       "      <td>31.333333</td>\n",
       "    </tr>\n",
       "    <tr>\n",
       "      <th>996</th>\n",
       "      <td>female</td>\n",
       "      <td>group B</td>\n",
       "      <td>some college</td>\n",
       "      <td>standard</td>\n",
       "      <td>none</td>\n",
       "      <td>19</td>\n",
       "      <td>38</td>\n",
       "      <td>32</td>\n",
       "      <td>29.666667</td>\n",
       "    </tr>\n",
       "    <tr>\n",
       "      <th>997</th>\n",
       "      <td>female</td>\n",
       "      <td>group B</td>\n",
       "      <td>some high school</td>\n",
       "      <td>free/reduced</td>\n",
       "      <td>none</td>\n",
       "      <td>18</td>\n",
       "      <td>32</td>\n",
       "      <td>28</td>\n",
       "      <td>26.000000</td>\n",
       "    </tr>\n",
       "    <tr>\n",
       "      <th>998</th>\n",
       "      <td>female</td>\n",
       "      <td>group B</td>\n",
       "      <td>high school</td>\n",
       "      <td>free/reduced</td>\n",
       "      <td>none</td>\n",
       "      <td>8</td>\n",
       "      <td>24</td>\n",
       "      <td>23</td>\n",
       "      <td>18.333333</td>\n",
       "    </tr>\n",
       "    <tr>\n",
       "      <th>999</th>\n",
       "      <td>female</td>\n",
       "      <td>group C</td>\n",
       "      <td>some high school</td>\n",
       "      <td>free/reduced</td>\n",
       "      <td>none</td>\n",
       "      <td>0</td>\n",
       "      <td>17</td>\n",
       "      <td>10</td>\n",
       "      <td>9.000000</td>\n",
       "    </tr>\n",
       "  </tbody>\n",
       "</table>\n",
       "<p>1000 rows × 9 columns</p>\n",
       "</div>"
      ],
      "text/plain": [
       "     gender race/ethnicity parental level of education         lunch  \\\n",
       "0    female        group E           bachelor's degree      standard   \n",
       "1      male        group E           bachelor's degree      standard   \n",
       "2    female        group E          associate's degree      standard   \n",
       "3      male        group E          associate's degree  free/reduced   \n",
       "4      male        group D                some college      standard   \n",
       "..      ...            ...                         ...           ...   \n",
       "995  female        group C                some college  free/reduced   \n",
       "996  female        group B                some college      standard   \n",
       "997  female        group B            some high school  free/reduced   \n",
       "998  female        group B                 high school  free/reduced   \n",
       "999  female        group C            some high school  free/reduced   \n",
       "\n",
       "    test preparation course  math score  reading score  writing score  \\\n",
       "0                      none         100            100            100   \n",
       "1                 completed         100            100            100   \n",
       "2                      none         100            100            100   \n",
       "3                 completed         100            100             93   \n",
       "4                 completed         100             97             99   \n",
       "..                      ...         ...            ...            ...   \n",
       "995                    none          22             39             33   \n",
       "996                    none          19             38             32   \n",
       "997                    none          18             32             28   \n",
       "998                    none           8             24             23   \n",
       "999                    none           0             17             10   \n",
       "\n",
       "          MÉDIA  \n",
       "0    100.000000  \n",
       "1    100.000000  \n",
       "2    100.000000  \n",
       "3     97.666667  \n",
       "4     98.666667  \n",
       "..          ...  \n",
       "995   31.333333  \n",
       "996   29.666667  \n",
       "997   26.000000  \n",
       "998   18.333333  \n",
       "999    9.000000  \n",
       "\n",
       "[1000 rows x 9 columns]"
      ]
     },
     "execution_count": 15,
     "metadata": {},
     "output_type": "execute_result"
    }
   ],
   "source": [
    "# CALCULANDO A MÉDIA DAS PROVAS E ADICIONANDO COMO UMA NOVA COLUNA NO DATAFRAME\n",
    "# A média é calculada ao longo do eixo 1 (linhas), ou seja, para cada aluno\n",
    "BaseDados[\"MÉDIA\"] = BaseDados[provas].mean(axis=1)\n",
    "BaseDados"
   ]
  },
  {
   "cell_type": "code",
   "execution_count": 16,
   "id": "740e573f",
   "metadata": {},
   "outputs": [
    {
     "data": {
      "application/vnd.microsoft.datawrangler.viewer.v0+json": {
       "columns": [
        {
         "name": "index",
         "rawType": "int64",
         "type": "integer"
        },
        {
         "name": "gender",
         "rawType": "object",
         "type": "string"
        },
        {
         "name": "race/ethnicity",
         "rawType": "object",
         "type": "string"
        },
        {
         "name": "parental level of education",
         "rawType": "object",
         "type": "string"
        },
        {
         "name": "lunch",
         "rawType": "object",
         "type": "string"
        },
        {
         "name": "test preparation course",
         "rawType": "object",
         "type": "string"
        },
        {
         "name": "math score",
         "rawType": "int64",
         "type": "integer"
        },
        {
         "name": "reading score",
         "rawType": "int64",
         "type": "integer"
        },
        {
         "name": "writing score",
         "rawType": "int64",
         "type": "integer"
        },
        {
         "name": "MÉDIA",
         "rawType": "float64",
         "type": "float"
        }
       ],
       "ref": "3a396f2c-8b12-47c4-a08e-a3a0d9fea190",
       "rows": [
        [
         "15",
         "male",
         "group C",
         "associate's degree",
         "standard",
         "none",
         "97",
         "93",
         "91",
         "93.66666666666667"
        ],
        [
         "17",
         "male",
         "group E",
         "some college",
         "standard",
         "none",
         "97",
         "87",
         "82",
         "88.66666666666667"
        ],
        [
         "23",
         "male",
         "group D",
         "master's degree",
         "standard",
         "none",
         "95",
         "81",
         "84",
         "86.66666666666667"
        ],
        [
         "26",
         "male",
         "group E",
         "some high school",
         "standard",
         "none",
         "94",
         "88",
         "78",
         "86.66666666666667"
        ],
        [
         "30",
         "male",
         "group E",
         "high school",
         "standard",
         "none",
         "94",
         "73",
         "71",
         "79.33333333333333"
        ],
        [
         "33",
         "male",
         "group E",
         "some college",
         "free/reduced",
         "none",
         "93",
         "90",
         "83",
         "88.66666666666667"
        ],
        [
         "39",
         "male",
         "group E",
         "some high school",
         "standard",
         "none",
         "92",
         "87",
         "78",
         "85.66666666666667"
        ],
        [
         "40",
         "male",
         "group C",
         "associate's degree",
         "standard",
         "none",
         "92",
         "79",
         "84",
         "85.0"
        ],
        [
         "41",
         "male",
         "group A",
         "bachelor's degree",
         "standard",
         "none",
         "91",
         "96",
         "92",
         "93.0"
        ],
        [
         "48",
         "male",
         "group C",
         "some college",
         "standard",
         "none",
         "91",
         "74",
         "76",
         "80.33333333333333"
        ],
        [
         "52",
         "male",
         "group E",
         "associate's degree",
         "free/reduced",
         "none",
         "90",
         "90",
         "82",
         "87.33333333333333"
        ],
        [
         "53",
         "male",
         "group D",
         "associate's degree",
         "standard",
         "none",
         "90",
         "87",
         "85",
         "87.33333333333333"
        ],
        [
         "54",
         "male",
         "group D",
         "associate's degree",
         "free/reduced",
         "none",
         "90",
         "87",
         "75",
         "84.0"
        ],
        [
         "55",
         "male",
         "group E",
         "master's degree",
         "standard",
         "none",
         "90",
         "85",
         "84",
         "86.33333333333333"
        ],
        [
         "56",
         "male",
         "group B",
         "associate's degree",
         "standard",
         "none",
         "90",
         "78",
         "81",
         "83.0"
        ],
        [
         "57",
         "male",
         "group C",
         "high school",
         "standard",
         "none",
         "90",
         "75",
         "69",
         "78.0"
        ],
        [
         "60",
         "male",
         "group D",
         "high school",
         "standard",
         "none",
         "89",
         "87",
         "79",
         "85.0"
        ],
        [
         "61",
         "male",
         "group D",
         "master's degree",
         "standard",
         "none",
         "89",
         "84",
         "82",
         "85.0"
        ],
        [
         "63",
         "male",
         "group E",
         "associate's degree",
         "standard",
         "none",
         "89",
         "76",
         "74",
         "79.66666666666667"
        ],
        [
         "70",
         "male",
         "group C",
         "high school",
         "standard",
         "none",
         "88",
         "89",
         "86",
         "87.66666666666667"
        ],
        [
         "72",
         "male",
         "group B",
         "some high school",
         "standard",
         "none",
         "88",
         "84",
         "75",
         "82.33333333333333"
        ],
        [
         "73",
         "male",
         "group D",
         "bachelor's degree",
         "standard",
         "none",
         "88",
         "78",
         "83",
         "83.0"
        ],
        [
         "74",
         "male",
         "group D",
         "high school",
         "standard",
         "none",
         "88",
         "78",
         "75",
         "80.33333333333333"
        ],
        [
         "75",
         "male",
         "group D",
         "some college",
         "standard",
         "none",
         "88",
         "77",
         "77",
         "80.66666666666667"
        ],
        [
         "76",
         "male",
         "group B",
         "bachelor's degree",
         "free/reduced",
         "none",
         "88",
         "75",
         "76",
         "79.66666666666667"
        ],
        [
         "78",
         "male",
         "group D",
         "some college",
         "standard",
         "none",
         "88",
         "73",
         "78",
         "79.66666666666667"
        ],
        [
         "87",
         "male",
         "group B",
         "associate's degree",
         "standard",
         "none",
         "87",
         "85",
         "73",
         "81.66666666666667"
        ],
        [
         "92",
         "male",
         "group E",
         "associate's degree",
         "standard",
         "none",
         "87",
         "74",
         "76",
         "79.0"
        ],
        [
         "94",
         "male",
         "group C",
         "associate's degree",
         "free/reduced",
         "none",
         "87",
         "73",
         "72",
         "77.33333333333333"
        ],
        [
         "97",
         "male",
         "group C",
         "bachelor's degree",
         "standard",
         "none",
         "86",
         "83",
         "86",
         "85.0"
        ],
        [
         "100",
         "male",
         "group D",
         "some high school",
         "standard",
         "none",
         "86",
         "80",
         "75",
         "80.33333333333333"
        ],
        [
         "101",
         "male",
         "group E",
         "some college",
         "standard",
         "none",
         "86",
         "76",
         "74",
         "78.66666666666667"
        ],
        [
         "102",
         "male",
         "group D",
         "some high school",
         "standard",
         "none",
         "86",
         "73",
         "70",
         "76.33333333333333"
        ],
        [
         "110",
         "male",
         "group D",
         "master's degree",
         "standard",
         "none",
         "85",
         "84",
         "89",
         "86.0"
        ],
        [
         "114",
         "male",
         "group C",
         "associate's degree",
         "standard",
         "none",
         "85",
         "76",
         "71",
         "77.33333333333333"
        ],
        [
         "120",
         "male",
         "group C",
         "some college",
         "standard",
         "none",
         "84",
         "87",
         "81",
         "84.0"
        ],
        [
         "121",
         "male",
         "group D",
         "some high school",
         "standard",
         "none",
         "84",
         "84",
         "80",
         "82.66666666666667"
        ],
        [
         "124",
         "male",
         "group C",
         "associate's degree",
         "standard",
         "none",
         "84",
         "80",
         "80",
         "81.33333333333333"
        ],
        [
         "125",
         "male",
         "group C",
         "high school",
         "standard",
         "none",
         "84",
         "77",
         "74",
         "78.33333333333333"
        ],
        [
         "126",
         "male",
         "group E",
         "some college",
         "standard",
         "none",
         "84",
         "77",
         "71",
         "77.33333333333333"
        ],
        [
         "127",
         "male",
         "group E",
         "high school",
         "standard",
         "none",
         "84",
         "73",
         "69",
         "75.33333333333333"
        ],
        [
         "133",
         "male",
         "group E",
         "some college",
         "standard",
         "none",
         "83",
         "80",
         "73",
         "78.66666666666667"
        ],
        [
         "134",
         "male",
         "group C",
         "bachelor's degree",
         "standard",
         "none",
         "83",
         "78",
         "73",
         "78.0"
        ],
        [
         "135",
         "male",
         "group C",
         "associate's degree",
         "standard",
         "none",
         "83",
         "72",
         "78",
         "77.66666666666667"
        ],
        [
         "147",
         "male",
         "group B",
         "high school",
         "standard",
         "none",
         "82",
         "82",
         "80",
         "81.33333333333333"
        ],
        [
         "148",
         "male",
         "group D",
         "master's degree",
         "standard",
         "none",
         "82",
         "82",
         "74",
         "79.33333333333333"
        ],
        [
         "152",
         "male",
         "group E",
         "some high school",
         "standard",
         "none",
         "82",
         "67",
         "61",
         "70.0"
        ],
        [
         "153",
         "male",
         "group E",
         "bachelor's degree",
         "standard",
         "none",
         "82",
         "62",
         "62",
         "68.66666666666667"
        ],
        [
         "161",
         "male",
         "group D",
         "some college",
         "standard",
         "none",
         "81",
         "82",
         "84",
         "82.33333333333333"
        ],
        [
         "163",
         "male",
         "group D",
         "master's degree",
         "standard",
         "none",
         "81",
         "81",
         "84",
         "82.0"
        ]
       ],
       "shape": {
        "columns": 9,
        "rows": 128
       }
      },
      "text/html": [
       "<div>\n",
       "<style scoped>\n",
       "    .dataframe tbody tr th:only-of-type {\n",
       "        vertical-align: middle;\n",
       "    }\n",
       "\n",
       "    .dataframe tbody tr th {\n",
       "        vertical-align: top;\n",
       "    }\n",
       "\n",
       "    .dataframe thead th {\n",
       "        text-align: right;\n",
       "    }\n",
       "</style>\n",
       "<table border=\"1\" class=\"dataframe\">\n",
       "  <thead>\n",
       "    <tr style=\"text-align: right;\">\n",
       "      <th></th>\n",
       "      <th>gender</th>\n",
       "      <th>race/ethnicity</th>\n",
       "      <th>parental level of education</th>\n",
       "      <th>lunch</th>\n",
       "      <th>test preparation course</th>\n",
       "      <th>math score</th>\n",
       "      <th>reading score</th>\n",
       "      <th>writing score</th>\n",
       "      <th>MÉDIA</th>\n",
       "    </tr>\n",
       "  </thead>\n",
       "  <tbody>\n",
       "    <tr>\n",
       "      <th>15</th>\n",
       "      <td>male</td>\n",
       "      <td>group C</td>\n",
       "      <td>associate's degree</td>\n",
       "      <td>standard</td>\n",
       "      <td>none</td>\n",
       "      <td>97</td>\n",
       "      <td>93</td>\n",
       "      <td>91</td>\n",
       "      <td>93.666667</td>\n",
       "    </tr>\n",
       "    <tr>\n",
       "      <th>17</th>\n",
       "      <td>male</td>\n",
       "      <td>group E</td>\n",
       "      <td>some college</td>\n",
       "      <td>standard</td>\n",
       "      <td>none</td>\n",
       "      <td>97</td>\n",
       "      <td>87</td>\n",
       "      <td>82</td>\n",
       "      <td>88.666667</td>\n",
       "    </tr>\n",
       "    <tr>\n",
       "      <th>23</th>\n",
       "      <td>male</td>\n",
       "      <td>group D</td>\n",
       "      <td>master's degree</td>\n",
       "      <td>standard</td>\n",
       "      <td>none</td>\n",
       "      <td>95</td>\n",
       "      <td>81</td>\n",
       "      <td>84</td>\n",
       "      <td>86.666667</td>\n",
       "    </tr>\n",
       "    <tr>\n",
       "      <th>26</th>\n",
       "      <td>male</td>\n",
       "      <td>group E</td>\n",
       "      <td>some high school</td>\n",
       "      <td>standard</td>\n",
       "      <td>none</td>\n",
       "      <td>94</td>\n",
       "      <td>88</td>\n",
       "      <td>78</td>\n",
       "      <td>86.666667</td>\n",
       "    </tr>\n",
       "    <tr>\n",
       "      <th>30</th>\n",
       "      <td>male</td>\n",
       "      <td>group E</td>\n",
       "      <td>high school</td>\n",
       "      <td>standard</td>\n",
       "      <td>none</td>\n",
       "      <td>94</td>\n",
       "      <td>73</td>\n",
       "      <td>71</td>\n",
       "      <td>79.333333</td>\n",
       "    </tr>\n",
       "    <tr>\n",
       "      <th>...</th>\n",
       "      <td>...</td>\n",
       "      <td>...</td>\n",
       "      <td>...</td>\n",
       "      <td>...</td>\n",
       "      <td>...</td>\n",
       "      <td>...</td>\n",
       "      <td>...</td>\n",
       "      <td>...</td>\n",
       "      <td>...</td>\n",
       "    </tr>\n",
       "    <tr>\n",
       "      <th>401</th>\n",
       "      <td>male</td>\n",
       "      <td>group C</td>\n",
       "      <td>high school</td>\n",
       "      <td>standard</td>\n",
       "      <td>none</td>\n",
       "      <td>70</td>\n",
       "      <td>70</td>\n",
       "      <td>65</td>\n",
       "      <td>68.333333</td>\n",
       "    </tr>\n",
       "    <tr>\n",
       "      <th>403</th>\n",
       "      <td>male</td>\n",
       "      <td>group B</td>\n",
       "      <td>high school</td>\n",
       "      <td>standard</td>\n",
       "      <td>none</td>\n",
       "      <td>70</td>\n",
       "      <td>65</td>\n",
       "      <td>60</td>\n",
       "      <td>65.000000</td>\n",
       "    </tr>\n",
       "    <tr>\n",
       "      <th>406</th>\n",
       "      <td>male</td>\n",
       "      <td>group D</td>\n",
       "      <td>some college</td>\n",
       "      <td>free/reduced</td>\n",
       "      <td>none</td>\n",
       "      <td>70</td>\n",
       "      <td>63</td>\n",
       "      <td>58</td>\n",
       "      <td>63.666667</td>\n",
       "    </tr>\n",
       "    <tr>\n",
       "      <th>407</th>\n",
       "      <td>male</td>\n",
       "      <td>group C</td>\n",
       "      <td>high school</td>\n",
       "      <td>standard</td>\n",
       "      <td>none</td>\n",
       "      <td>70</td>\n",
       "      <td>56</td>\n",
       "      <td>51</td>\n",
       "      <td>59.000000</td>\n",
       "    </tr>\n",
       "    <tr>\n",
       "      <th>408</th>\n",
       "      <td>male</td>\n",
       "      <td>group E</td>\n",
       "      <td>high school</td>\n",
       "      <td>standard</td>\n",
       "      <td>none</td>\n",
       "      <td>70</td>\n",
       "      <td>55</td>\n",
       "      <td>56</td>\n",
       "      <td>60.333333</td>\n",
       "    </tr>\n",
       "  </tbody>\n",
       "</table>\n",
       "<p>128 rows × 9 columns</p>\n",
       "</div>"
      ],
      "text/plain": [
       "    gender race/ethnicity parental level of education         lunch  \\\n",
       "15    male        group C          associate's degree      standard   \n",
       "17    male        group E                some college      standard   \n",
       "23    male        group D             master's degree      standard   \n",
       "26    male        group E            some high school      standard   \n",
       "30    male        group E                 high school      standard   \n",
       "..     ...            ...                         ...           ...   \n",
       "401   male        group C                 high school      standard   \n",
       "403   male        group B                 high school      standard   \n",
       "406   male        group D                some college  free/reduced   \n",
       "407   male        group C                 high school      standard   \n",
       "408   male        group E                 high school      standard   \n",
       "\n",
       "    test preparation course  math score  reading score  writing score  \\\n",
       "15                     none          97             93             91   \n",
       "17                     none          97             87             82   \n",
       "23                     none          95             81             84   \n",
       "26                     none          94             88             78   \n",
       "30                     none          94             73             71   \n",
       "..                      ...         ...            ...            ...   \n",
       "401                    none          70             70             65   \n",
       "403                    none          70             65             60   \n",
       "406                    none          70             63             58   \n",
       "407                    none          70             56             51   \n",
       "408                    none          70             55             56   \n",
       "\n",
       "         MÉDIA  \n",
       "15   93.666667  \n",
       "17   88.666667  \n",
       "23   86.666667  \n",
       "26   86.666667  \n",
       "30   79.333333  \n",
       "..         ...  \n",
       "401  68.333333  \n",
       "403  65.000000  \n",
       "406  63.666667  \n",
       "407  59.000000  \n",
       "408  60.333333  \n",
       "\n",
       "[128 rows x 9 columns]"
      ]
     },
     "execution_count": 16,
     "metadata": {},
     "output_type": "execute_result"
    }
   ],
   "source": [
    "# Seleciona alunos do gênero masculino que não participaram do curso preparatório\n",
    "# e que obtiveram nota igual ou superior a 70 em matemática.\n",
    "\n",
    "BaseDados.query(\"(gender == 'male') & (`test preparation course` == 'none') & (`math score` >= 70)\")\n"
   ]
  },
  {
   "cell_type": "code",
   "execution_count": 17,
   "id": "401b390b",
   "metadata": {},
   "outputs": [
    {
     "data": {
      "application/vnd.microsoft.datawrangler.viewer.v0+json": {
       "columns": [
        {
         "name": "(None, None)",
         "rawType": "object",
         "type": "unknown"
        },
        {
         "name": "female",
         "rawType": "float64",
         "type": "float"
        },
        {
         "name": "male",
         "rawType": "float64",
         "type": "float"
        }
       ],
       "ref": "a336c75a-62e8-442c-8630-6c045a0e99ef",
       "rows": [
        [
         "('math score', 'mean')",
         "63.633204633204635",
         "68.72821576763485"
        ],
        [
         "('math score', 'median')",
         "65.0",
         "69.0"
        ],
        [
         "('reading score', 'mean')",
         "72.60810810810811",
         "65.47302904564316"
        ],
        [
         "('reading score', 'median')",
         "73.0",
         "66.0"
        ],
        [
         "('writing score', 'mean')",
         "72.46718146718146",
         "63.31120331950208"
        ],
        [
         "('writing score', 'median')",
         "74.0",
         "64.0"
        ]
       ],
       "shape": {
        "columns": 2,
        "rows": 6
       }
      },
      "text/html": [
       "<div>\n",
       "<style scoped>\n",
       "    .dataframe tbody tr th:only-of-type {\n",
       "        vertical-align: middle;\n",
       "    }\n",
       "\n",
       "    .dataframe tbody tr th {\n",
       "        vertical-align: top;\n",
       "    }\n",
       "\n",
       "    .dataframe thead th {\n",
       "        text-align: right;\n",
       "    }\n",
       "</style>\n",
       "<table border=\"1\" class=\"dataframe\">\n",
       "  <thead>\n",
       "    <tr style=\"text-align: right;\">\n",
       "      <th></th>\n",
       "      <th>gender</th>\n",
       "      <th>female</th>\n",
       "      <th>male</th>\n",
       "    </tr>\n",
       "  </thead>\n",
       "  <tbody>\n",
       "    <tr>\n",
       "      <th rowspan=\"2\" valign=\"top\">math score</th>\n",
       "      <th>mean</th>\n",
       "      <td>63.633205</td>\n",
       "      <td>68.728216</td>\n",
       "    </tr>\n",
       "    <tr>\n",
       "      <th>median</th>\n",
       "      <td>65.000000</td>\n",
       "      <td>69.000000</td>\n",
       "    </tr>\n",
       "    <tr>\n",
       "      <th rowspan=\"2\" valign=\"top\">reading score</th>\n",
       "      <th>mean</th>\n",
       "      <td>72.608108</td>\n",
       "      <td>65.473029</td>\n",
       "    </tr>\n",
       "    <tr>\n",
       "      <th>median</th>\n",
       "      <td>73.000000</td>\n",
       "      <td>66.000000</td>\n",
       "    </tr>\n",
       "    <tr>\n",
       "      <th rowspan=\"2\" valign=\"top\">writing score</th>\n",
       "      <th>mean</th>\n",
       "      <td>72.467181</td>\n",
       "      <td>63.311203</td>\n",
       "    </tr>\n",
       "    <tr>\n",
       "      <th>median</th>\n",
       "      <td>74.000000</td>\n",
       "      <td>64.000000</td>\n",
       "    </tr>\n",
       "  </tbody>\n",
       "</table>\n",
       "</div>"
      ],
      "text/plain": [
       "gender                   female       male\n",
       "math score    mean    63.633205  68.728216\n",
       "              median  65.000000  69.000000\n",
       "reading score mean    72.608108  65.473029\n",
       "              median  73.000000  66.000000\n",
       "writing score mean    72.467181  63.311203\n",
       "              median  74.000000  64.000000"
      ]
     },
     "execution_count": 17,
     "metadata": {},
     "output_type": "execute_result"
    }
   ],
   "source": [
    "# Agrupa os dados por gênero e calcula a média e a mediana de cada prova.\n",
    "# Transpõe o resultado para que as provas fiquem como linhas e as métricas (média, mediana) como colunas.\n",
    "\n",
    "BaseDados.groupby(by=\"gender\")[provas].agg([\"mean\", \"median\"]).T\n"
   ]
  }
 ],
 "metadata": {
  "kernelspec": {
   "display_name": "Python 3",
   "language": "python",
   "name": "python3"
  },
  "language_info": {
   "codemirror_mode": {
    "name": "ipython",
    "version": 3
   },
   "file_extension": ".py",
   "mimetype": "text/x-python",
   "name": "python",
   "nbconvert_exporter": "python",
   "pygments_lexer": "ipython3",
   "version": "3.13.5"
  }
 },
 "nbformat": 4,
 "nbformat_minor": 5
}
